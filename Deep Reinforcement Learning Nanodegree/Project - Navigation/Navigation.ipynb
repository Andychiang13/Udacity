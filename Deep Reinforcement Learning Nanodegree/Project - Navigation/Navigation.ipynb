{
 "cells": [
  {
   "cell_type": "markdown",
   "metadata": {},
   "source": [
    "# Navigation\n",
    "\n",
    "---\n",
    "\n",
    "You are welcome to use this coding environment to train your agent for the project.  Follow the instructions below to get started!\n",
    "\n",
    "### 1. Start the Environment\n",
    "\n",
    "Run the next code cell to install a few packages.  This line will take a few minutes to run!"
   ]
  },
  {
   "cell_type": "code",
   "execution_count": 1,
   "metadata": {},
   "outputs": [
    {
     "name": "stdout",
     "output_type": "stream",
     "text": [
      "\u001b[31mtensorflow 1.7.1 has requirement numpy>=1.13.3, but you'll have numpy 1.12.1 which is incompatible.\u001b[0m\r\n",
      "\u001b[31mipython 6.5.0 has requirement prompt-toolkit<2.0.0,>=1.0.15, but you'll have prompt-toolkit 3.0.5 which is incompatible.\u001b[0m\r\n"
     ]
    }
   ],
   "source": [
    "!pip -q install ./python"
   ]
  },
  {
   "cell_type": "markdown",
   "metadata": {},
   "source": [
    "The environment is already saved in the Workspace and can be accessed at the file path provided below.  Please run the next code cell without making any changes."
   ]
  },
  {
   "cell_type": "code",
   "execution_count": 2,
   "metadata": {},
   "outputs": [
    {
     "name": "stderr",
     "output_type": "stream",
     "text": [
      "INFO:unityagents:\n",
      "'Academy' started successfully!\n",
      "Unity Academy name: Academy\n",
      "        Number of Brains: 1\n",
      "        Number of External Brains : 1\n",
      "        Lesson number : 0\n",
      "        Reset Parameters :\n",
      "\t\t\n",
      "Unity brain name: BananaBrain\n",
      "        Number of Visual Observations (per agent): 0\n",
      "        Vector Observation space type: continuous\n",
      "        Vector Observation space size (per agent): 37\n",
      "        Number of stacked Vector Observation: 1\n",
      "        Vector Action space type: discrete\n",
      "        Vector Action space size (per agent): 4\n",
      "        Vector Action descriptions: , , , \n"
     ]
    }
   ],
   "source": [
    "from unityagents import UnityEnvironment\n",
    "import numpy as np\n",
    "\n",
    "# please do not modify the line below\n",
    "env = UnityEnvironment(file_name=\"/data/Banana_Linux_NoVis/Banana.x86_64\")"
   ]
  },
  {
   "cell_type": "markdown",
   "metadata": {},
   "source": [
    "Environments contain **_brains_** which are responsible for deciding the actions of their associated agents. Here we check for the first brain available, and set it as the default brain we will be controlling from Python."
   ]
  },
  {
   "cell_type": "code",
   "execution_count": 3,
   "metadata": {},
   "outputs": [],
   "source": [
    "# get the default brain\n",
    "brain_name = env.brain_names[0]\n",
    "brain = env.brains[brain_name]"
   ]
  },
  {
   "cell_type": "markdown",
   "metadata": {},
   "source": [
    "### 2. Examine the State and Action Spaces\n",
    "\n",
    "Run the code cell below to print some information about the environment."
   ]
  },
  {
   "cell_type": "code",
   "execution_count": 4,
   "metadata": {},
   "outputs": [
    {
     "name": "stdout",
     "output_type": "stream",
     "text": [
      "Number of agents: 1\n",
      "Number of actions: 4\n",
      "States look like: [ 1.          0.          0.          0.          0.84408134  0.          0.\n",
      "  1.          0.          0.0748472   0.          1.          0.          0.\n",
      "  0.25755     1.          0.          0.          0.          0.74177343\n",
      "  0.          1.          0.          0.          0.25854847  0.          0.\n",
      "  1.          0.          0.09355672  0.          1.          0.          0.\n",
      "  0.31969345  0.          0.        ]\n",
      "States have length: 37\n"
     ]
    }
   ],
   "source": [
    "# reset the environment\n",
    "env_info = env.reset(train_mode=True)[brain_name]\n",
    "\n",
    "# number of agents in the environment\n",
    "print('Number of agents:', len(env_info.agents))\n",
    "\n",
    "# number of actions\n",
    "action_size = brain.vector_action_space_size\n",
    "print('Number of actions:', action_size)\n",
    "\n",
    "# examine the state space \n",
    "state = env_info.vector_observations[0]\n",
    "print('States look like:', state)\n",
    "state_size = len(state)\n",
    "print('States have length:', state_size)"
   ]
  },
  {
   "cell_type": "markdown",
   "metadata": {},
   "source": [
    "### 3. Take Random Actions in the Environment\n",
    "\n",
    "In the next code cell, you will learn how to use the Python API to control the agent and receive feedback from the environment.\n",
    "\n",
    "Note that **in this coding environment, you will not be able to watch the agent while it is training**, and you should set `train_mode=True` to restart the environment."
   ]
  },
  {
   "cell_type": "code",
   "execution_count": 5,
   "metadata": {},
   "outputs": [
    {
     "name": "stdout",
     "output_type": "stream",
     "text": [
      "Score: 0.0\n"
     ]
    }
   ],
   "source": [
    "env_info = env.reset(train_mode=True)[brain_name] # reset the environment\n",
    "state = env_info.vector_observations[0]            # get the current state\n",
    "score = 0                                          # initialize the score\n",
    "while True:\n",
    "    action = np.random.randint(action_size)        # select an action\n",
    "    env_info = env.step(action)[brain_name]        # send the action to the environment\n",
    "    next_state = env_info.vector_observations[0]   # get the next state\n",
    "    reward = env_info.rewards[0]                   # get the reward\n",
    "    done = env_info.local_done[0]                  # see if episode has finished\n",
    "    score += reward                                # update the score\n",
    "    state = next_state                             # roll over the state to next time step\n",
    "    if done:                                       # exit loop if episode finished\n",
    "        break\n",
    "    \n",
    "print(\"Score: {}\".format(score))"
   ]
  },
  {
   "cell_type": "markdown",
   "metadata": {},
   "source": [
    "### 4. Training the agent\n",
    "\n",
    "To train your own agent to solve the environment!  A few **important notes**:\n",
    "- When training the environment, set `train_mode=True`, so that the line for resetting the environment looks like the following:\n",
    "```python\n",
    "env_info = env.reset(train_mode=True)[brain_name]\n",
    "```\n",
    "- To structure your work, you're welcome to work directly in this Jupyter notebook, or you might like to start over with a new file!  You can see the list of files in the workspace by clicking on **_Jupyter_** in the top left corner of the notebook.\n",
    "- In this coding environment, you will not be able to watch the agent while it is training.  However, **_after training the agent_**, you can download the saved model weights to watch the agent on your own machine! "
   ]
  },
  {
   "cell_type": "code",
   "execution_count": 6,
   "metadata": {},
   "outputs": [],
   "source": [
    "from dqn_agent import Agent\n",
    "# init the agent\n",
    "agent = Agent(state_size=state_size, action_size=action_size, seed=0)"
   ]
  },
  {
   "cell_type": "markdown",
   "metadata": {},
   "source": [
    "The parameters choosen for the DQR are as follows:\n",
    "```\n",
    "BUFFER_SIZE = int(1e5)  # replay buffer size\n",
    "BATCH_SIZE = 64         # minibatch size\n",
    "GAMMA = 0.99            # discount factor\n",
    "TAU = 1e-3              # for soft update of target parameters\n",
    "LR = 5e-4               # learning rate \n",
    "UPDATE_EVERY = 4        # how often to update the network\n",
    "```\n",
    "\n",
    "And for the e-greedy algorithm:\n",
    "```\n",
    "eps_start = 1.0         # starting value of epsilon\n",
    "eps_end = 0.01          # minimum value of epsilon\n",
    "eps_decay = 0.995       # multiplicative factor (per episode) for decreasing epsilon\n",
    "```\n",
    "\n",
    "The DQN consists of two hidden layers, each with 64 units. The input layer receives the states with 37 units and the output layer has four units for the possible actions."
   ]
  },
  {
   "cell_type": "code",
   "execution_count": 7,
   "metadata": {
    "scrolled": true
   },
   "outputs": [
    {
     "name": "stdout",
     "output_type": "stream",
     "text": [
      "Episode 100\tAverage Score: 0.95\n",
      "Episode 200\tAverage Score: 4.79\n",
      "Episode 300\tAverage Score: 7.36\n",
      "Episode 400\tAverage Score: 10.17\n",
      "Episode 496\tAverage Score: 13.01\n",
      "Environment solved in 396 episodes!\tAverage Score: 13.01\n",
      "Episode 497\tAverage Score: 13.01\n",
      "Environment solved in 397 episodes!\tAverage Score: 13.01\n",
      "Episode 498\tAverage Score: 13.09\n",
      "Environment solved in 398 episodes!\tAverage Score: 13.09\n",
      "Episode 499\tAverage Score: 13.09\n",
      "Environment solved in 399 episodes!\tAverage Score: 13.09\n",
      "Episode 500\tAverage Score: 13.24\n",
      "\n",
      "Environment solved in 400 episodes!\tAverage Score: 13.24\n",
      "Episode 503\tAverage Score: 13.28\n",
      "Environment solved in 403 episodes!\tAverage Score: 13.28\n",
      "Episode 504\tAverage Score: 13.33\n",
      "Environment solved in 404 episodes!\tAverage Score: 13.33\n",
      "Episode 505\tAverage Score: 13.35\n",
      "Environment solved in 405 episodes!\tAverage Score: 13.35\n",
      "Episode 511\tAverage Score: 13.37\n",
      "Environment solved in 411 episodes!\tAverage Score: 13.37\n",
      "Episode 514\tAverage Score: 13.41\n",
      "Environment solved in 414 episodes!\tAverage Score: 13.41\n",
      "Episode 515\tAverage Score: 13.42\n",
      "Environment solved in 415 episodes!\tAverage Score: 13.42\n",
      "Episode 516\tAverage Score: 13.43\n",
      "Environment solved in 416 episodes!\tAverage Score: 13.43\n",
      "Episode 538\tAverage Score: 13.43\n",
      "Environment solved in 438 episodes!\tAverage Score: 13.43\n",
      "Episode 566\tAverage Score: 13.46\n",
      "Environment solved in 466 episodes!\tAverage Score: 13.46\n",
      "Episode 567\tAverage Score: 13.48\n",
      "Environment solved in 467 episodes!\tAverage Score: 13.48\n",
      "Episode 568\tAverage Score: 13.52\n",
      "Environment solved in 468 episodes!\tAverage Score: 13.52\n",
      "Episode 577\tAverage Score: 13.53\n",
      "Environment solved in 477 episodes!\tAverage Score: 13.53\n",
      "Episode 578\tAverage Score: 13.53\n",
      "Environment solved in 478 episodes!\tAverage Score: 13.53\n",
      "Episode 579\tAverage Score: 13.55\n",
      "Environment solved in 479 episodes!\tAverage Score: 13.55\n",
      "Episode 586\tAverage Score: 13.61\n",
      "Environment solved in 486 episodes!\tAverage Score: 13.61\n",
      "Episode 587\tAverage Score: 13.65\n",
      "Environment solved in 487 episodes!\tAverage Score: 13.65\n",
      "Episode 588\tAverage Score: 13.72\n",
      "Environment solved in 488 episodes!\tAverage Score: 13.72\n",
      "Episode 589\tAverage Score: 13.76\n",
      "Environment solved in 489 episodes!\tAverage Score: 13.76\n",
      "Episode 590\tAverage Score: 13.81\n",
      "Environment solved in 490 episodes!\tAverage Score: 13.81\n",
      "Episode 596\tAverage Score: 13.83\n",
      "Environment solved in 496 episodes!\tAverage Score: 13.83\n",
      "Episode 599\tAverage Score: 13.86\n",
      "Environment solved in 499 episodes!\tAverage Score: 13.86\n",
      "Episode 600\tAverage Score: 13.75\n",
      "Episode 610\tAverage Score: 13.90\n",
      "Environment solved in 510 episodes!\tAverage Score: 13.90\n",
      "Episode 612\tAverage Score: 13.95\n",
      "Environment solved in 512 episodes!\tAverage Score: 13.95\n",
      "Episode 613\tAverage Score: 13.96\n",
      "Environment solved in 513 episodes!\tAverage Score: 13.96\n",
      "Episode 621\tAverage Score: 13.99\n",
      "Environment solved in 521 episodes!\tAverage Score: 13.99\n",
      "Episode 622\tAverage Score: 14.07\n",
      "Environment solved in 522 episodes!\tAverage Score: 14.07\n",
      "Episode 623\tAverage Score: 14.08\n",
      "Environment solved in 523 episodes!\tAverage Score: 14.08\n",
      "Episode 624\tAverage Score: 14.09\n",
      "Environment solved in 524 episodes!\tAverage Score: 14.09\n",
      "Episode 625\tAverage Score: 14.13\n",
      "Environment solved in 525 episodes!\tAverage Score: 14.13\n",
      "Episode 626\tAverage Score: 14.19\n",
      "Environment solved in 526 episodes!\tAverage Score: 14.19\n",
      "Episode 627\tAverage Score: 14.23\n",
      "Environment solved in 527 episodes!\tAverage Score: 14.23\n",
      "Episode 629\tAverage Score: 14.24\n",
      "Environment solved in 529 episodes!\tAverage Score: 14.24\n",
      "Episode 635\tAverage Score: 14.27\n",
      "Environment solved in 535 episodes!\tAverage Score: 14.27\n",
      "Episode 636\tAverage Score: 14.32\n",
      "Environment solved in 536 episodes!\tAverage Score: 14.32\n",
      "Episode 638\tAverage Score: 14.34\n",
      "Environment solved in 538 episodes!\tAverage Score: 14.34\n",
      "Episode 639\tAverage Score: 14.38\n",
      "Environment solved in 539 episodes!\tAverage Score: 14.38\n",
      "Episode 640\tAverage Score: 14.48\n",
      "Environment solved in 540 episodes!\tAverage Score: 14.48\n",
      "Episode 641\tAverage Score: 14.53\n",
      "Environment solved in 541 episodes!\tAverage Score: 14.53\n",
      "Episode 643\tAverage Score: 14.54\n",
      "Environment solved in 543 episodes!\tAverage Score: 14.54\n",
      "Episode 644\tAverage Score: 14.61\n",
      "Environment solved in 544 episodes!\tAverage Score: 14.61\n",
      "Episode 647\tAverage Score: 14.70\n",
      "Environment solved in 547 episodes!\tAverage Score: 14.70\n",
      "Episode 648\tAverage Score: 14.75\n",
      "Environment solved in 548 episodes!\tAverage Score: 14.75\n",
      "Episode 656\tAverage Score: 14.76\n",
      "Environment solved in 556 episodes!\tAverage Score: 14.76\n",
      "Episode 657\tAverage Score: 14.78\n",
      "Environment solved in 557 episodes!\tAverage Score: 14.78\n",
      "Episode 659\tAverage Score: 14.82\n",
      "Environment solved in 559 episodes!\tAverage Score: 14.82\n",
      "Episode 660\tAverage Score: 14.87\n",
      "Environment solved in 560 episodes!\tAverage Score: 14.87\n",
      "Episode 662\tAverage Score: 14.90\n",
      "Environment solved in 562 episodes!\tAverage Score: 14.90\n",
      "Episode 664\tAverage Score: 14.91\n",
      "Environment solved in 564 episodes!\tAverage Score: 14.91\n",
      "Episode 671\tAverage Score: 14.94\n",
      "Environment solved in 571 episodes!\tAverage Score: 14.94\n",
      "Episode 672\tAverage Score: 14.95\n",
      "Environment solved in 572 episodes!\tAverage Score: 14.95\n",
      "Episode 673\tAverage Score: 14.95\n",
      "Environment solved in 573 episodes!\tAverage Score: 14.95\n",
      "Episode 674\tAverage Score: 14.99\n",
      "Environment solved in 574 episodes!\tAverage Score: 14.99\n",
      "Episode 675\tAverage Score: 14.99\n",
      "Environment solved in 575 episodes!\tAverage Score: 14.99\n",
      "Episode 676\tAverage Score: 15.01\n",
      "Environment solved in 576 episodes!\tAverage Score: 15.01\n",
      "Episode 691\tAverage Score: 15.02\n",
      "Environment solved in 591 episodes!\tAverage Score: 15.02\n",
      "Episode 700\tAverage Score: 14.97\n",
      "Episode 701\tAverage Score: 15.04\n",
      "Environment solved in 601 episodes!\tAverage Score: 15.04\n",
      "Episode 702\tAverage Score: 15.04\n",
      "Environment solved in 602 episodes!\tAverage Score: 15.04\n",
      "Episode 706\tAverage Score: 15.04\n",
      "Environment solved in 606 episodes!\tAverage Score: 15.04\n",
      "Episode 708\tAverage Score: 15.09\n",
      "Environment solved in 608 episodes!\tAverage Score: 15.09\n",
      "Episode 709\tAverage Score: 15.15\n",
      "Environment solved in 609 episodes!\tAverage Score: 15.15\n",
      "Episode 714\tAverage Score: 15.16\n",
      "Environment solved in 614 episodes!\tAverage Score: 15.16\n",
      "Episode 715\tAverage Score: 15.18\n",
      "Environment solved in 615 episodes!\tAverage Score: 15.18\n",
      "Episode 717\tAverage Score: 15.21\n",
      "Environment solved in 617 episodes!\tAverage Score: 15.21\n",
      "Episode 718\tAverage Score: 15.21\n",
      "Environment solved in 618 episodes!\tAverage Score: 15.21\n",
      "Episode 719\tAverage Score: 15.23\n",
      "Environment solved in 619 episodes!\tAverage Score: 15.23\n",
      "Episode 720\tAverage Score: 15.29\n",
      "Environment solved in 620 episodes!\tAverage Score: 15.29\n",
      "Episode 745\tAverage Score: 15.37\n",
      "Environment solved in 645 episodes!\tAverage Score: 15.37\n",
      "Episode 746\tAverage Score: 15.42\n",
      "Environment solved in 646 episodes!\tAverage Score: 15.42\n",
      "Episode 752\tAverage Score: 15.42\n",
      "Environment solved in 652 episodes!\tAverage Score: 15.42\n",
      "Episode 777\tAverage Score: 15.42\n",
      "Environment solved in 677 episodes!\tAverage Score: 15.42\n",
      "Episode 778\tAverage Score: 15.44\n",
      "Environment solved in 678 episodes!\tAverage Score: 15.44\n",
      "Episode 779\tAverage Score: 15.51\n",
      "Environment solved in 679 episodes!\tAverage Score: 15.51\n",
      "Episode 780\tAverage Score: 15.52\n",
      "Environment solved in 680 episodes!\tAverage Score: 15.52\n",
      "Episode 781\tAverage Score: 15.52\n",
      "Environment solved in 681 episodes!\tAverage Score: 15.52\n",
      "Episode 782\tAverage Score: 15.54\n",
      "Environment solved in 682 episodes!\tAverage Score: 15.54\n",
      "Episode 783\tAverage Score: 15.54\n",
      "Environment solved in 683 episodes!\tAverage Score: 15.54\n",
      "Episode 794\tAverage Score: 15.55\n",
      "Environment solved in 694 episodes!\tAverage Score: 15.55\n",
      "Episode 798\tAverage Score: 15.57\n",
      "Environment solved in 698 episodes!\tAverage Score: 15.57\n",
      "Episode 799\tAverage Score: 15.60\n",
      "Environment solved in 699 episodes!\tAverage Score: 15.60\n",
      "Episode 800\tAverage Score: 15.57\n",
      "Episode 803\tAverage Score: 15.60\n",
      "Environment solved in 703 episodes!\tAverage Score: 15.60\n",
      "Episode 804\tAverage Score: 15.65\n",
      "Environment solved in 704 episodes!\tAverage Score: 15.65\n",
      "Episode 805\tAverage Score: 15.68\n",
      "Environment solved in 705 episodes!\tAverage Score: 15.68\n",
      "Episode 807\tAverage Score: 15.68\n",
      "Environment solved in 707 episodes!\tAverage Score: 15.68\n",
      "Episode 809\tAverage Score: 15.70\n",
      "Environment solved in 709 episodes!\tAverage Score: 15.70\n",
      "Episode 810\tAverage Score: 15.74\n",
      "Environment solved in 710 episodes!\tAverage Score: 15.74\n",
      "Episode 821\tAverage Score: 15.80\n",
      "Environment solved in 721 episodes!\tAverage Score: 15.80\n",
      "Episode 826\tAverage Score: 15.81\n",
      "Environment solved in 726 episodes!\tAverage Score: 15.81\n",
      "Episode 828\tAverage Score: 15.82\n",
      "Environment solved in 728 episodes!\tAverage Score: 15.82\n",
      "Episode 829\tAverage Score: 15.88\n",
      "Environment solved in 729 episodes!\tAverage Score: 15.88\n",
      "Episode 830\tAverage Score: 15.88\n",
      "Environment solved in 730 episodes!\tAverage Score: 15.88\n",
      "Episode 831\tAverage Score: 15.89\n",
      "Environment solved in 731 episodes!\tAverage Score: 15.89\n",
      "Episode 835\tAverage Score: 15.90\n",
      "Environment solved in 735 episodes!\tAverage Score: 15.90\n",
      "Episode 836\tAverage Score: 15.91\n",
      "Environment solved in 736 episodes!\tAverage Score: 15.91\n",
      "Episode 839\tAverage Score: 15.92\n",
      "Environment solved in 739 episodes!\tAverage Score: 15.92\n",
      "Episode 848\tAverage Score: 15.92\n",
      "Environment solved in 748 episodes!\tAverage Score: 15.92\n",
      "Episode 849\tAverage Score: 15.93\n",
      "Environment solved in 749 episodes!\tAverage Score: 15.93\n",
      "Episode 850\tAverage Score: 15.98\n",
      "Environment solved in 750 episodes!\tAverage Score: 15.98\n",
      "Episode 851\tAverage Score: 16.05\n",
      "Environment solved in 751 episodes!\tAverage Score: 16.05\n",
      "Episode 853\tAverage Score: 16.14\n",
      "Environment solved in 753 episodes!\tAverage Score: 16.14\n",
      "Episode 854\tAverage Score: 16.22\n",
      "Environment solved in 754 episodes!\tAverage Score: 16.22\n",
      "Episode 857\tAverage Score: 16.22\n",
      "Environment solved in 757 episodes!\tAverage Score: 16.22\n",
      "Episode 858\tAverage Score: 16.24\n",
      "Environment solved in 758 episodes!\tAverage Score: 16.24\n",
      "Episode 859\tAverage Score: 16.31\n",
      "Environment solved in 759 episodes!\tAverage Score: 16.31\n",
      "Episode 900\tAverage Score: 15.75\n",
      "Episode 1000\tAverage Score: 15.70\n",
      "Episode 1100\tAverage Score: 15.24\n",
      "Episode 1200\tAverage Score: 15.56\n",
      "Episode 1300\tAverage Score: 15.90\n",
      "Episode 1400\tAverage Score: 15.80\n",
      "Episode 1500\tAverage Score: 15.75\n",
      "Episode 1600\tAverage Score: 15.63\n",
      "Episode 1700\tAverage Score: 15.58\n",
      "Episode 1800\tAverage Score: 15.85\n",
      "Episode 1900\tAverage Score: 15.38\n",
      "Episode 2000\tAverage Score: 15.51\n"
     ]
    },
    {
     "data": {
      "text/plain": [
       "<matplotlib.figure.Figure at 0x7f87d5223b38>"
      ]
     },
     "metadata": {},
     "output_type": "display_data"
    }
   ],
   "source": [
    "from collections import deque\n",
    "import matplotlib.pyplot as plt\n",
    "import torch\n",
    "\n",
    "def dqn(n_episodes=2000, max_t=1000, eps_start=1.0, eps_end=0.01, eps_decay=0.995):\n",
    "    \"\"\"Deep Q-Learning.\n",
    "    \n",
    "    Params\n",
    "    ======\n",
    "        n_episodes (int): maximum number of training episodes\n",
    "        max_t (int): maximum number of timesteps per episode\n",
    "        eps_start (float): starting value of epsilon, for epsilon-greedy action selection\n",
    "        eps_end (float): minimum value of epsilon\n",
    "        eps_decay (float): multiplicative factor (per episode) for decreasing epsilon\n",
    "    \"\"\"\n",
    "    best_score = 13.0\n",
    "    scores = []                        # list containing scores from each episode\n",
    "    scores_window = deque(maxlen=100)  # last 100 scores\n",
    "    eps = eps_start                    # initialize epsilon\n",
    "    for i_episode in range(1, n_episodes+1):\n",
    "        env_info = env.reset(train_mode=True)[brain_name]\n",
    "        state = env_info.vector_observations[0]\n",
    "        score = 0\n",
    "        for t in range(max_t):\n",
    "            action = agent.act(state, eps)\n",
    "            env_info = env.step(action)[brain_name]\n",
    "            \n",
    "            next_state = env_info.vector_observations[0]\n",
    "            reward = env_info.rewards[0]\n",
    "            done = env_info.local_done[0]\n",
    "            \n",
    "            agent.step(state, action, reward, next_state, done)\n",
    "            state = next_state\n",
    "            score += reward\n",
    "            if done:\n",
    "                break \n",
    "        scores_window.append(score)       # save most recent score\n",
    "        scores.append(score)              # save most recent score\n",
    "        eps = max(eps_end, eps_decay*eps) # decrease epsilon\n",
    "        print('\\rEpisode {}\\tAverage Score: {:.2f}'.format(i_episode, np.mean(scores_window)), end=\"\")\n",
    "        if i_episode % 100 == 0:\n",
    "            print('\\rEpisode {}\\tAverage Score: {:.2f}'.format(i_episode, np.mean(scores_window)))\n",
    "        if np.mean(scores_window)>=best_score:\n",
    "            print('\\nEnvironment solved in {:d} episodes!\\tAverage Score: {:.2f}'.format(i_episode-100, np.mean(scores_window)))\n",
    "            best_score = np.mean(scores_window)\n",
    "            torch.save(agent.qnetwork_local.state_dict(), 'checkpoint.pth')\n",
    "    return scores\n",
    "\n",
    "scores = dqn()"
   ]
  },
  {
   "cell_type": "markdown",
   "metadata": {},
   "source": [
    "Clearly, the agent was able to solve the environment in episode 396. But it achieved its best score in episode 759."
   ]
  },
  {
   "cell_type": "code",
   "execution_count": 8,
   "metadata": {
    "scrolled": true
   },
   "outputs": [
    {
     "data": {
      "image/png": "[encoded data removed]",
      "text/plain": [
       "<matplotlib.figure.Figure at 0x7f87d5223550>"
      ]
     },
     "metadata": {
      "needs_background": "light"
     },
     "output_type": "display_data"
    }
   ],
   "source": [
    "# plot the scores\n",
    "fig = plt.figure()\n",
    "ax = fig.add_subplot(111)\n",
    "plt.plot(np.arange(len(scores)), scores)\n",
    "plt.ylabel('Score')\n",
    "plt.xlabel('Episode #')\n",
    "plt.show()"
   ]
  },
  {
   "cell_type": "markdown",
   "metadata": {},
   "source": [
    "When finished, you can close the environment."
   ]
  },
  {
   "cell_type": "code",
   "execution_count": null,
   "metadata": {},
   "outputs": [],
   "source": [
    "env.close()"
   ]
  },
  {
   "cell_type": "markdown",
   "metadata": {},
   "source": [
    "Although the model has a great score and performance, but it can be further improved by trying other algorithms like:\n",
    "- Double DQN\n",
    "- Prioritized Experience Replay\n",
    "- Dueling DQN\n",
    "- Pixel Based Learning"
   ]
  },
  {
   "cell_type": "code",
   "execution_count": null,
   "metadata": {},
   "outputs": [],
   "source": []
  }
 ],
 "metadata": {
  "kernelspec": {
   "display_name": "Python 3",
   "language": "python",
   "name": "python3"
  },
  "language_info": {
   "codemirror_mode": {
    "name": "ipython",
    "version": 3
   },
   "file_extension": ".py",
   "mimetype": "text/x-python",
   "name": "python",
   "nbconvert_exporter": "python",
   "pygments_lexer": "ipython3",
   "version": "3.6.3"
  }
 },
 "nbformat": 4,
 "nbformat_minor": 2
}
