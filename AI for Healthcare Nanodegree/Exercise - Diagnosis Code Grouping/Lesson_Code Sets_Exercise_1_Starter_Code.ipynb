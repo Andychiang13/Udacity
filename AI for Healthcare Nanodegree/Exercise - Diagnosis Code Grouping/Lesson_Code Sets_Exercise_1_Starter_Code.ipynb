{
 "cells": [
  {
   "cell_type": "markdown",
   "metadata": {},
   "source": [
    "## Code Sets Exercise 1: Diagnose Code Grouping - Solution"
   ]
  },
  {
   "cell_type": "markdown",
   "metadata": {},
   "source": [
    "### Datasets Source \n",
    "- From 2018 CA inpatient dataset - https://data.chhs.ca.gov/dataset/hospital-inpatient-diagnosis-procedure-and-external-cause-codes/\n",
    "- Attribution to CA https://data.chhs.ca.gov/pages/terms\n",
    "\n",
    "The attributes of the data are:\n",
    "1. `ICD10CMCODE` - The ICD-10-CM Code\n",
    "2. `DiagnosisDesc` - Diagnosis Description \n",
    "3. `TotalDiag` - Count of Total Diagnosis\t\n",
    "4. `PrimaryDiag` - Count of Primary Diagnosis\t\n",
    "5. `SecondDiag` - Count of Secondary Diagnosis"
   ]
  },
  {
   "cell_type": "markdown",
   "metadata": {},
   "source": [
    "### Instructions\n",
    "Please use the dataset above from the state of California that provides the **total inpatient diagnosis counts** using the ICD10 - CM code set. \n",
    "1. Give the codes that have 'SEPSIS\" in the description (HINT: could use the str.contains function)\n",
    "2. What percentage of primary diagnosis could be grouped at the category level with A41? \n",
    "3. If you were to create a metacategory for sepsis, what percentage of secondary diagnosis codes would be grouped with using just the first character? "
   ]
  },
  {
   "cell_type": "code",
   "execution_count": null,
   "metadata": {},
   "outputs": [],
   "source": [
    "import pandas as pd\n",
    "import numpy as np"
   ]
  },
  {
   "cell_type": "code",
   "execution_count": null,
   "metadata": {},
   "outputs": [],
   "source": [
    "ca_icd_dx_path = \"./ICD-10-CM-Table 1.csv\"\n",
    "#last row is malformed\n",
    "dx_df = pd.read_csv(ca_icd_dx_path).fillna(0)[:-1]"
   ]
  },
  {
   "cell_type": "code",
   "execution_count": null,
   "metadata": {},
   "outputs": [],
   "source": [
    "dx_df.head()"
   ]
  },
  {
   "cell_type": "markdown",
   "metadata": {},
   "source": [
    "### Solution"
   ]
  },
  {
   "cell_type": "markdown",
   "metadata": {},
   "source": [
    "**1. Give the codes that have 'SEPSIS\" in the description**"
   ]
  },
  {
   "cell_type": "code",
   "execution_count": null,
   "metadata": {},
   "outputs": [],
   "source": [
    "sepsis_df = dx_df[dx_df['DiagnosisDesc'].str.contains('SEPSIS')]\n",
    "sepsis_df"
   ]
  },
  {
   "cell_type": "markdown",
   "metadata": {},
   "source": [
    "**2. What percentage of primary diagnosis could be grouped at the category level with A41?**"
   ]
  },
  {
   "cell_type": "code",
   "execution_count": null,
   "metadata": {},
   "outputs": [],
   "source": [
    "a41_cat_level_sum = sum(sepsis_df[sepsis_df['ICD10CMCODE'].str.startswith('A41')]['PrimaryDiag'].astype(int))\n",
    "a41_cat_level_sum"
   ]
  },
  {
   "cell_type": "code",
   "execution_count": null,
   "metadata": {},
   "outputs": [],
   "source": [
    "total_primary_dx = sum(sepsis_df['PrimaryDiag'].astype(int))\n",
    "total_primary_dx"
   ]
  },
  {
   "cell_type": "code",
   "execution_count": null,
   "metadata": {},
   "outputs": [],
   "source": [
    "float(a41_cat_level_sum/total_primary_dx)"
   ]
  },
  {
   "cell_type": "markdown",
   "metadata": {},
   "source": [
    "**3. If you were to create a metacategory for sepsis, what percentage of secondary diagnosis codes would be grouped with using the first character as A?**"
   ]
  },
  {
   "cell_type": "code",
   "execution_count": null,
   "metadata": {},
   "outputs": [],
   "source": [
    "a_cat_level_sum = sum(sepsis_df[sepsis_df['ICD10CMCODE'].str.startswith('A')]['SecondDiag'].astype(int))\n",
    "a_cat_level_sum"
   ]
  },
  {
   "cell_type": "code",
   "execution_count": null,
   "metadata": {},
   "outputs": [],
   "source": [
    "total_secondary_dx = sum(sepsis_df['SecondDiag'].astype(int))\n",
    "total_secondary_dx"
   ]
  },
  {
   "cell_type": "code",
   "execution_count": null,
   "metadata": {},
   "outputs": [],
   "source": [
    "float(a_cat_level_sum/total_secondary_dx)"
   ]
  }
 ],
 "metadata": {
  "kernelspec": {
   "display_name": "Python 3",
   "language": "python",
   "name": "python3"
  },
  "language_info": {
   "codemirror_mode": {
    "name": "ipython",
    "version": 3
   },
   "file_extension": ".py",
   "mimetype": "text/x-python",
   "name": "python",
   "nbconvert_exporter": "python",
   "pygments_lexer": "ipython3",
   "version": "3.7.6"
  }
 },
 "nbformat": 4,
 "nbformat_minor": 4
}
