{
 "cells": [
  {
   "cell_type": "code",
   "execution_count": 1,
   "metadata": {},
   "outputs": [],
   "source": [
    "%matplotlib notebook\n",
    "import pandas as pd\n",
    "import numpy as np\n",
    "import pydicom\n",
    "import skimage\n",
    "import matplotlib.pyplot as plt"
   ]
  },
  {
   "cell_type": "markdown",
   "metadata": {},
   "source": [
    "#### First, read in your dataframe of images with bounding box coordinates"
   ]
  },
  {
   "cell_type": "code",
   "execution_count": 2,
   "metadata": {},
   "outputs": [
    {
     "data": {
      "text/html": [
       "<div>\n",
       "<style scoped>\n",
       "    .dataframe tbody tr th:only-of-type {\n",
       "        vertical-align: middle;\n",
       "    }\n",
       "\n",
       "    .dataframe tbody tr th {\n",
       "        vertical-align: top;\n",
       "    }\n",
       "\n",
       "    .dataframe thead th {\n",
       "        text-align: right;\n",
       "    }\n",
       "</style>\n",
       "<table border=\"1\" class=\"dataframe\">\n",
       "  <thead>\n",
       "    <tr style=\"text-align: right;\">\n",
       "      <th></th>\n",
       "      <th>Unnamed: 0</th>\n",
       "      <th>Image Index</th>\n",
       "      <th>Finding Label</th>\n",
       "      <th>Bbox [x</th>\n",
       "      <th>y</th>\n",
       "      <th>w</th>\n",
       "      <th>h]</th>\n",
       "    </tr>\n",
       "  </thead>\n",
       "  <tbody>\n",
       "    <tr>\n",
       "      <th>0</th>\n",
       "      <td>583</td>\n",
       "      <td>dicom_00023075_033.dcm</td>\n",
       "      <td>Mass</td>\n",
       "      <td>239.502222</td>\n",
       "      <td>535.077934</td>\n",
       "      <td>72.817778</td>\n",
       "      <td>65.991111</td>\n",
       "    </tr>\n",
       "    <tr>\n",
       "      <th>1</th>\n",
       "      <td>584</td>\n",
       "      <td>dicom_00029579_005.dcm</td>\n",
       "      <td>Mass</td>\n",
       "      <td>609.280000</td>\n",
       "      <td>189.193490</td>\n",
       "      <td>73.955556</td>\n",
       "      <td>71.680000</td>\n",
       "    </tr>\n",
       "    <tr>\n",
       "      <th>2</th>\n",
       "      <td>585</td>\n",
       "      <td>dicom_00013659_019.dcm</td>\n",
       "      <td>Mass</td>\n",
       "      <td>559.217778</td>\n",
       "      <td>167.575712</td>\n",
       "      <td>102.400000</td>\n",
       "      <td>136.533333</td>\n",
       "    </tr>\n",
       "  </tbody>\n",
       "</table>\n",
       "</div>"
      ],
      "text/plain": [
       "   Unnamed: 0             Image Index Finding Label     Bbox [x           y  \\\n",
       "0         583  dicom_00023075_033.dcm          Mass  239.502222  535.077934   \n",
       "1         584  dicom_00029579_005.dcm          Mass  609.280000  189.193490   \n",
       "2         585  dicom_00013659_019.dcm          Mass  559.217778  167.575712   \n",
       "\n",
       "            w          h]  \n",
       "0   72.817778   65.991111  \n",
       "1   73.955556   71.680000  \n",
       "2  102.400000  136.533333  "
      ]
     },
     "execution_count": 2,
     "metadata": {},
     "output_type": "execute_result"
    }
   ],
   "source": [
    "bbox = pd.read_csv('bounding_boxes.csv')\n",
    "bbox"
   ]
  },
  {
   "cell_type": "markdown",
   "metadata": {},
   "source": [
    "#### For each of the three DICOM files listed in the dataframe, do the following: \n",
    "1. Read the DICOM's pixel_array attribute into a dataframe using the pydicom.dcmread function\n",
    "2. Visualize the image using plt.imshow\n",
    "3. Plot a histogram of the image pixel intensity values\n",
    "4. Find the mean and standard deviation of intensity values of the image, and standardize it using the standardization formula:\n",
    "```test\n",
    "(X - X_mean)/X_std_dev\n",
    "```\n",
    "\n",
    "5. Re-plot a histogram of the normalized intensity values\n",
    "6. Use the coordinates in the dataframe that tell the starting x & y values, and the width and height of the mass to plot visualize only the mass using plt.imshow\n",
    "7. Plot a histogram of the normalized intensity values of the mass"
   ]
  },
  {
   "cell_type": "code",
   "execution_count": null,
   "metadata": {},
   "outputs": [],
   "source": []
  }
 ],
 "metadata": {
  "kernelspec": {
   "display_name": "Python 3",
   "language": "python",
   "name": "python3"
  },
  "language_info": {
   "codemirror_mode": {
    "name": "ipython",
    "version": 3
   },
   "file_extension": ".py",
   "mimetype": "text/x-python",
   "name": "python",
   "nbconvert_exporter": "python",
   "pygments_lexer": "ipython3",
   "version": "3.7.6"
  }
 },
 "nbformat": 4,
 "nbformat_minor": 2
}
